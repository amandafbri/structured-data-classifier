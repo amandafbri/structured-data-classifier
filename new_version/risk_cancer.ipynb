{
 "cells": [
  {
   "cell_type": "markdown",
   "metadata": {
    "id": "Qcg6dZiPy9sM"
   },
   "source": [
    "# **Risk Factors for Cervical Cancer**"
   ]
  },
  {
   "cell_type": "markdown",
   "metadata": {
    "id": "dAR3svkNzZpZ"
   },
   "source": [
    "## **Setup**"
   ]
  },
  {
   "cell_type": "code",
   "execution_count": 7,
   "metadata": {
    "id": "YD6OAOalzfXZ"
   },
   "outputs": [],
   "source": [
    "import numpy as np\n",
    "import autokeras as ak\n",
    "import tensorflow as tf\n",
    "import pandas as pd\n",
    "import mlflow"
   ]
  },
  {
   "cell_type": "code",
   "execution_count": 10,
   "metadata": {},
   "outputs": [
    {
     "data": {
      "text/plain": [
       "<Experiment: artifact_location='file:///home/amandafbri/repos/structured-data-classifier/new_version/mlruns/1', experiment_id='1', lifecycle_stage='active', name='risk_cancer_v1', tags={}>"
      ]
     },
     "execution_count": 10,
     "metadata": {},
     "output_type": "execute_result"
    }
   ],
   "source": [
    "try:\n",
    "    experiment = mlflow.create_experiment('risk_cancer_v1')\n",
    "except:\n",
    "    experiment = client.get_experiment_by_name('risk_cancer_v1')\n",
    "mlflow.set_experiment('risk_cancer_v1')"
   ]
  },
  {
   "cell_type": "markdown",
   "metadata": {
    "id": "FVEp7G08ydfa"
   },
   "source": [
    "# **DATA**"
   ]
  },
  {
   "cell_type": "markdown",
   "metadata": {
    "id": "3-vNd_WrmlIY",
    "jp-MarkdownHeadingCollapsed": true,
    "tags": []
   },
   "source": [
    "### **Dataset description**"
   ]
  },
  {
   "cell_type": "markdown",
   "metadata": {
    "id": "CaJsB8XBwioF"
   },
   "source": [
    "https://archive.ics.uci.edu/ml/datasets/Cervical+cancer+%28Risk+Factors%29\n",
    "* (int) Age\n",
    "* (int) Number of sexual partners\n",
    "* (int) First sexual intercourse (age)\n",
    "* (int) Num of pregnancies\n",
    "* (bool) Smokes\n",
    "* (bool) Smokes (years)\n",
    "* (bool) Smokes (packs/year)\n",
    "* (bool) Hormonal Contraceptives\n",
    "* (int) Hormonal Contraceptives (years)\n",
    "* (bool) IUD\n",
    "* (int) IUD (years)\n",
    "* (bool) STDs\n",
    "* (int) STDs (number)\n",
    "* (bool) STDs:condylomatosis\n",
    "* (bool) STDs:cervical condylomatosis\n",
    "* (bool) STDs:vaginal condylomatosis\n",
    "* (bool) STDs:vulvo-perineal condylomatosis\n",
    "* (bool) STDs:syphilis\n",
    "* (bool) STDs:pelvic inflammatory disease\n",
    "* (bool) STDs:genital herpes\n",
    "* (bool) STDs:molluscum contagiosum\n",
    "* (bool) STDs:AIDS\n",
    "* (bool) STDs:HIV\n",
    "* (bool) STDs:Hepatitis B\n",
    "* (bool) STDs:HPV\n",
    "* (int) STDs: Number of diagnosis\n",
    "* (int) STDs: Time since first diagnosis\n",
    "* (int) STDs: Time since last diagnosis\n",
    "* (bool) Dx:Cancer\n",
    "* (bool) Dx:CIN\n",
    "* (bool) Dx:HPV\n",
    "* (bool) Dx\n",
    "* (bool) Hinselmann: target variable\n",
    "* (bool) Schiller: target variable\n",
    "* (bool) Cytology: target variable\n",
    "* (bool) Biopsy: target variable"
   ]
  },
  {
   "cell_type": "markdown",
   "metadata": {
    "id": "8Tig4rj6v0jC"
   },
   "source": [
    "https://christophm.github.io/interpretable-ml-book/cervical.html\n",
    "*   Age in years\n",
    "*   Number of sexual partners\n",
    "*   First sexual intercourse (age in years)\n",
    "*   Number of pregnancies\n",
    "*   Smoking yes or no\n",
    "*   Smoking (in years)\n",
    "*   Hormonal contraceptives yes or no\n",
    "*   Hormonal contraceptives (in years)\n",
    "*   Intrauterine device yes or no (IUD)\n",
    "*   Number of years with an intrauterine device (IUD)\n",
    "*   Has patient ever had a sexually transmitted disease (STD) yes or no\n",
    "*   Number of STD diagnoses\n",
    "*   Time since first STD diagnosis\n",
    "*   Time since last STD diagnosis\n",
    "*   The biopsy results “Healthy” or “Cancer”. Target outcome.\n"
   ]
  },
  {
   "cell_type": "markdown",
   "metadata": {
    "id": "q4PQTIvlmtyQ"
   },
   "source": [
    "## **Load and prepare data**"
   ]
  },
  {
   "cell_type": "code",
   "execution_count": 2,
   "metadata": {
    "id": "jtFXSdss2C4Z"
   },
   "outputs": [],
   "source": [
    "risk_factors = 'risk_factors_cervical_cancer.csv'"
   ]
  },
  {
   "cell_type": "code",
   "execution_count": 4,
   "metadata": {
    "colab": {
     "base_uri": "https://localhost:8080/",
     "height": 292
    },
    "id": "3s7xTS3VlNZg",
    "outputId": "17c738c6-b293-4d69-8dbe-0c5f38ce635b"
   },
   "outputs": [
    {
     "data": {
      "text/html": [
       "<div>\n",
       "<style scoped>\n",
       "    .dataframe tbody tr th:only-of-type {\n",
       "        vertical-align: middle;\n",
       "    }\n",
       "\n",
       "    .dataframe tbody tr th {\n",
       "        vertical-align: top;\n",
       "    }\n",
       "\n",
       "    .dataframe thead th {\n",
       "        text-align: right;\n",
       "    }\n",
       "</style>\n",
       "<table border=\"1\" class=\"dataframe\">\n",
       "  <thead>\n",
       "    <tr style=\"text-align: right;\">\n",
       "      <th></th>\n",
       "      <th>Age</th>\n",
       "      <th>Number of sexual partners</th>\n",
       "      <th>First sexual intercourse</th>\n",
       "      <th>Num of pregnancies</th>\n",
       "      <th>Smokes</th>\n",
       "      <th>Smokes (years)</th>\n",
       "      <th>Smokes (packs/year)</th>\n",
       "      <th>Hormonal Contraceptives</th>\n",
       "      <th>Hormonal Contraceptives (years)</th>\n",
       "      <th>IUD</th>\n",
       "      <th>...</th>\n",
       "      <th>STDs: Time since first diagnosis</th>\n",
       "      <th>STDs: Time since last diagnosis</th>\n",
       "      <th>Dx:Cancer</th>\n",
       "      <th>Dx:CIN</th>\n",
       "      <th>Dx:HPV</th>\n",
       "      <th>Dx</th>\n",
       "      <th>Hinselmann</th>\n",
       "      <th>Schiller</th>\n",
       "      <th>Citology</th>\n",
       "      <th>Biopsy</th>\n",
       "    </tr>\n",
       "  </thead>\n",
       "  <tbody>\n",
       "    <tr>\n",
       "      <th>0</th>\n",
       "      <td>18</td>\n",
       "      <td>4.0</td>\n",
       "      <td>15.0</td>\n",
       "      <td>1.0</td>\n",
       "      <td>0.0</td>\n",
       "      <td>0.0</td>\n",
       "      <td>0.0</td>\n",
       "      <td>0.0</td>\n",
       "      <td>0.0</td>\n",
       "      <td>0.0</td>\n",
       "      <td>...</td>\n",
       "      <td>?</td>\n",
       "      <td>?</td>\n",
       "      <td>0</td>\n",
       "      <td>0</td>\n",
       "      <td>0</td>\n",
       "      <td>0</td>\n",
       "      <td>0</td>\n",
       "      <td>0</td>\n",
       "      <td>0</td>\n",
       "      <td>0</td>\n",
       "    </tr>\n",
       "    <tr>\n",
       "      <th>1</th>\n",
       "      <td>15</td>\n",
       "      <td>1.0</td>\n",
       "      <td>14.0</td>\n",
       "      <td>1.0</td>\n",
       "      <td>0.0</td>\n",
       "      <td>0.0</td>\n",
       "      <td>0.0</td>\n",
       "      <td>0.0</td>\n",
       "      <td>0.0</td>\n",
       "      <td>0.0</td>\n",
       "      <td>...</td>\n",
       "      <td>?</td>\n",
       "      <td>?</td>\n",
       "      <td>0</td>\n",
       "      <td>0</td>\n",
       "      <td>0</td>\n",
       "      <td>0</td>\n",
       "      <td>0</td>\n",
       "      <td>0</td>\n",
       "      <td>0</td>\n",
       "      <td>0</td>\n",
       "    </tr>\n",
       "    <tr>\n",
       "      <th>2</th>\n",
       "      <td>34</td>\n",
       "      <td>1.0</td>\n",
       "      <td>?</td>\n",
       "      <td>1.0</td>\n",
       "      <td>0.0</td>\n",
       "      <td>0.0</td>\n",
       "      <td>0.0</td>\n",
       "      <td>0.0</td>\n",
       "      <td>0.0</td>\n",
       "      <td>0.0</td>\n",
       "      <td>...</td>\n",
       "      <td>?</td>\n",
       "      <td>?</td>\n",
       "      <td>0</td>\n",
       "      <td>0</td>\n",
       "      <td>0</td>\n",
       "      <td>0</td>\n",
       "      <td>0</td>\n",
       "      <td>0</td>\n",
       "      <td>0</td>\n",
       "      <td>0</td>\n",
       "    </tr>\n",
       "    <tr>\n",
       "      <th>3</th>\n",
       "      <td>52</td>\n",
       "      <td>5.0</td>\n",
       "      <td>16.0</td>\n",
       "      <td>4.0</td>\n",
       "      <td>1.0</td>\n",
       "      <td>37.0</td>\n",
       "      <td>37.0</td>\n",
       "      <td>1.0</td>\n",
       "      <td>3.0</td>\n",
       "      <td>0.0</td>\n",
       "      <td>...</td>\n",
       "      <td>?</td>\n",
       "      <td>?</td>\n",
       "      <td>1</td>\n",
       "      <td>0</td>\n",
       "      <td>1</td>\n",
       "      <td>0</td>\n",
       "      <td>0</td>\n",
       "      <td>0</td>\n",
       "      <td>0</td>\n",
       "      <td>0</td>\n",
       "    </tr>\n",
       "    <tr>\n",
       "      <th>4</th>\n",
       "      <td>46</td>\n",
       "      <td>3.0</td>\n",
       "      <td>21.0</td>\n",
       "      <td>4.0</td>\n",
       "      <td>0.0</td>\n",
       "      <td>0.0</td>\n",
       "      <td>0.0</td>\n",
       "      <td>1.0</td>\n",
       "      <td>15.0</td>\n",
       "      <td>0.0</td>\n",
       "      <td>...</td>\n",
       "      <td>?</td>\n",
       "      <td>?</td>\n",
       "      <td>0</td>\n",
       "      <td>0</td>\n",
       "      <td>0</td>\n",
       "      <td>0</td>\n",
       "      <td>0</td>\n",
       "      <td>0</td>\n",
       "      <td>0</td>\n",
       "      <td>0</td>\n",
       "    </tr>\n",
       "  </tbody>\n",
       "</table>\n",
       "<p>5 rows × 36 columns</p>\n",
       "</div>"
      ],
      "text/plain": [
       "   Age Number of sexual partners First sexual intercourse Num of pregnancies  \\\n",
       "0   18                       4.0                     15.0                1.0   \n",
       "1   15                       1.0                     14.0                1.0   \n",
       "2   34                       1.0                        ?                1.0   \n",
       "3   52                       5.0                     16.0                4.0   \n",
       "4   46                       3.0                     21.0                4.0   \n",
       "\n",
       "  Smokes Smokes (years) Smokes (packs/year) Hormonal Contraceptives  \\\n",
       "0    0.0            0.0                 0.0                     0.0   \n",
       "1    0.0            0.0                 0.0                     0.0   \n",
       "2    0.0            0.0                 0.0                     0.0   \n",
       "3    1.0           37.0                37.0                     1.0   \n",
       "4    0.0            0.0                 0.0                     1.0   \n",
       "\n",
       "  Hormonal Contraceptives (years)  IUD  ... STDs: Time since first diagnosis  \\\n",
       "0                             0.0  0.0  ...                                ?   \n",
       "1                             0.0  0.0  ...                                ?   \n",
       "2                             0.0  0.0  ...                                ?   \n",
       "3                             3.0  0.0  ...                                ?   \n",
       "4                            15.0  0.0  ...                                ?   \n",
       "\n",
       "  STDs: Time since last diagnosis Dx:Cancer Dx:CIN Dx:HPV Dx Hinselmann  \\\n",
       "0                               ?         0      0      0  0          0   \n",
       "1                               ?         0      0      0  0          0   \n",
       "2                               ?         0      0      0  0          0   \n",
       "3                               ?         1      0      1  0          0   \n",
       "4                               ?         0      0      0  0          0   \n",
       "\n",
       "  Schiller Citology Biopsy  \n",
       "0        0        0      0  \n",
       "1        0        0      0  \n",
       "2        0        0      0  \n",
       "3        0        0      0  \n",
       "4        0        0      0  \n",
       "\n",
       "[5 rows x 36 columns]"
      ]
     },
     "execution_count": 4,
     "metadata": {},
     "output_type": "execute_result"
    }
   ],
   "source": [
    "data = pd.read_csv(risk_factors)\n",
    "data.head()"
   ]
  },
  {
   "cell_type": "markdown",
   "metadata": {
    "id": "a0F_M3wizDv0"
   },
   "source": [
    "Let's try Autokeras without processing/cleaning the data."
   ]
  },
  {
   "cell_type": "code",
   "execution_count": 5,
   "metadata": {
    "colab": {
     "base_uri": "https://localhost:8080/"
    },
    "id": "sjh5Uk-amcCo",
    "outputId": "23dfc7e1-b33d-44c0-82fe-5da2f65e384a"
   },
   "outputs": [
    {
     "name": "stdout",
     "output_type": "stream",
     "text": [
      "0    646\n",
      "1     40\n",
      "Name: Biopsy, dtype: int64\n",
      "0    78\n",
      "1     8\n",
      "Name: Biopsy, dtype: int64\n",
      "0    79\n",
      "1     7\n",
      "Name: Biopsy, dtype: int64\n"
     ]
    }
   ],
   "source": [
    "# Split into 80/10/10\n",
    "train, validation, test = np.split(\n",
    "        data.sample(frac=1, random_state=0), [int(.8*len(data)), int(.9*len(data))]\n",
    "    )\n",
    "\n",
    "# Remember to check if there are examples of all labels in all sets\n",
    "print(train['Biopsy'].value_counts())\n",
    "print(validation['Biopsy'].value_counts())\n",
    "print(test['Biopsy'].value_counts())"
   ]
  },
  {
   "cell_type": "code",
   "execution_count": 11,
   "metadata": {
    "id": "C67fYA43nsUe"
   },
   "outputs": [],
   "source": [
    "x_train = train.copy()\n",
    "y_train = x_train.pop(\"Biopsy\")"
   ]
  },
  {
   "cell_type": "markdown",
   "metadata": {
    "id": "CfPFYNo3yjNe"
   },
   "source": [
    "# **AUTOML**"
   ]
  },
  {
   "cell_type": "markdown",
   "metadata": {
    "id": "VAno_ZIUse51"
   },
   "source": [
    "https://autokeras.com/structured_data_classifier/"
   ]
  },
  {
   "cell_type": "markdown",
   "metadata": {
    "id": "dY-Nb-Dg8NAN"
   },
   "source": [
    "## **Create and train the model**"
   ]
  },
  {
   "cell_type": "markdown",
   "metadata": {
    "id": "rpxehCqvu0Hr"
   },
   "source": [
    "AutoKeras automatically detects a lot of the [classifier parameters](https://autokeras.com/structured_data_classifier/), but it is always recommended to pass them explicitly for more transparency and understanding of what is going on."
   ]
  },
  {
   "cell_type": "markdown",
   "metadata": {},
   "source": [
    "The `fit` method search for the best model and hyperparameters. "
   ]
  },
  {
   "cell_type": "code",
   "execution_count": 19,
   "metadata": {},
   "outputs": [
    {
     "name": "stdout",
     "output_type": "stream",
     "text": [
      "Trial 3 Complete [00h 00m 05s]\n",
      "val_loss: 0.12641580402851105\n",
      "\n",
      "Best val_loss So Far: 0.1054442748427391\n",
      "Total elapsed time: 00h 00m 16s\n",
      "INFO:tensorflow:Oracle triggered exit\n",
      "Epoch 1/10\n",
      "22/22 [==============================] - 0s 4ms/step - loss: 0.5237 - accuracy: 0.7901 - auc: 0.4664\n",
      "Epoch 2/10\n",
      "22/22 [==============================] - 0s 3ms/step - loss: 0.2858 - accuracy: 0.9388 - auc: 0.6168\n",
      "Epoch 3/10\n",
      "22/22 [==============================] - 0s 4ms/step - loss: 0.2014 - accuracy: 0.9417 - auc: 0.8079\n",
      "Epoch 4/10\n",
      "22/22 [==============================] - 0s 4ms/step - loss: 0.1602 - accuracy: 0.9417 - auc: 0.9009\n",
      "Epoch 5/10\n",
      "22/22 [==============================] - 0s 3ms/step - loss: 0.1348 - accuracy: 0.9461 - auc: 0.9368\n",
      "Epoch 6/10\n",
      "22/22 [==============================] - 0s 3ms/step - loss: 0.1169 - accuracy: 0.9534 - auc: 0.9563\n",
      "Epoch 7/10\n",
      "22/22 [==============================] - 0s 3ms/step - loss: 0.1032 - accuracy: 0.9665 - auc: 0.9698\n",
      "Epoch 8/10\n",
      "22/22 [==============================] - 0s 3ms/step - loss: 0.0925 - accuracy: 0.9694 - auc: 0.9765\n",
      "Epoch 9/10\n",
      "22/22 [==============================] - 0s 3ms/step - loss: 0.0841 - accuracy: 0.9708 - auc: 0.9792\n",
      "Epoch 10/10\n",
      "22/22 [==============================] - 0s 3ms/step - loss: 0.0774 - accuracy: 0.9723 - auc: 0.9829\n",
      "INFO:tensorflow:Assets written to: ./structured_data_classifier/best_model/assets\n"
     ]
    },
    {
     "name": "stderr",
     "output_type": "stream",
     "text": [
      "2021/11/30 20:29:00 INFO mlflow.tracking.fluent: Autologging successfully enabled for sklearn.\n",
      "2021/11/30 20:29:00 INFO mlflow.tracking.fluent: Autologging successfully enabled for tensorflow.\n"
     ]
    }
   ],
   "source": [
    "with mlflow.start_run():\n",
    "    clf = ak.StructuredDataClassifier(\n",
    "        metrics=['accuracy', 'AUC'],\n",
    "        max_trials=3,\n",
    "        objective='val_loss',\n",
    "        seed=123,\n",
    "        overwrite=True\n",
    "    )\n",
    "    \n",
    "    clf.fit(\n",
    "        x_train,\n",
    "        y_train,\n",
    "        epochs=10\n",
    "    )\n",
    "    \n",
    "    mlflow.autolog()"
   ]
  },
  {
   "cell_type": "code",
   "execution_count": 60,
   "metadata": {
    "id": "K_Gfhfwkf4vW"
   },
   "outputs": [],
   "source": [
    "trained_model = clf.export_model()"
   ]
  },
  {
   "cell_type": "markdown",
   "metadata": {
    "id": "rMnbCcm3wkCB"
   },
   "source": [
    "## **Loading the trained model**"
   ]
  },
  {
   "cell_type": "markdown",
   "metadata": {
    "id": "JsRyY9TMxB3E"
   },
   "source": [
    "Let's take a look into our best model trained by AutoKeras!"
   ]
  },
  {
   "cell_type": "code",
   "execution_count": 66,
   "metadata": {
    "id": "qs1Wfr6cwvnc"
   },
   "outputs": [],
   "source": [
    "trained_model_import = tf.keras.models.load_model('/content/structured_data_classifier/best_model/')"
   ]
  },
  {
   "cell_type": "code",
   "execution_count": 67,
   "metadata": {
    "colab": {
     "base_uri": "https://localhost:8080/"
    },
    "id": "ItHH8g-3vGc_",
    "outputId": "f411b4e3-b6e5-4bd0-e7af-bd879881b3e9"
   },
   "outputs": [
    {
     "name": "stdout",
     "output_type": "stream",
     "text": [
      "Model: \"model\"\n",
      "_________________________________________________________________\n",
      "Layer (type)                 Output Shape              Param #   \n",
      "=================================================================\n",
      "input_1 (InputLayer)         [(None, 35)]              0         \n",
      "_________________________________________________________________\n",
      "multi_category_encoding (Mul (None, 35)                0         \n",
      "_________________________________________________________________\n",
      "normalization (Normalization (None, 35)                71        \n",
      "_________________________________________________________________\n",
      "dense (Dense)                (None, 32)                1152      \n",
      "_________________________________________________________________\n",
      "re_lu (ReLU)                 (None, 32)                0         \n",
      "_________________________________________________________________\n",
      "dense_1 (Dense)              (None, 1)                 33        \n",
      "_________________________________________________________________\n",
      "classification_head_1 (Activ (None, 1)                 0         \n",
      "=================================================================\n",
      "Total params: 1,256\n",
      "Trainable params: 1,185\n",
      "Non-trainable params: 71\n",
      "_________________________________________________________________\n"
     ]
    }
   ],
   "source": [
    "trained_model_import.summary()"
   ]
  },
  {
   "cell_type": "code",
   "execution_count": 68,
   "metadata": {
    "colab": {
     "base_uri": "https://localhost:8080/"
    },
    "id": "uS8do3iUkHYB",
    "outputId": "6cbad988-a385-4b1d-cddb-750052ea1bd2"
   },
   "outputs": [
    {
     "data": {
      "text/plain": [
       "{'input_layers': [['input_1', 0, 0]],\n",
       " 'layers': [{'class_name': 'InputLayer',\n",
       "   'config': {'batch_input_shape': (None, 35),\n",
       "    'dtype': 'string',\n",
       "    'name': 'input_1',\n",
       "    'ragged': False,\n",
       "    'sparse': False},\n",
       "   'inbound_nodes': [],\n",
       "   'name': 'input_1'},\n",
       "  {'class_name': 'Custom>MultiCategoryEncoding',\n",
       "   'config': {'dtype': 'float32',\n",
       "    'encoding': ListWrapper(['none', 'int', 'int', 'int', 'int', 'int', 'int', 'int', 'int', 'int', 'int', 'int', 'int', 'int', 'int', 'int', 'int', 'int', 'int', 'int', 'int', 'int', 'int', 'int', 'int', 'int', 'int', 'int', 'int', 'int', 'int', 'int', 'int', 'int', 'int']),\n",
       "    'name': 'multi_category_encoding',\n",
       "    'trainable': True},\n",
       "   'inbound_nodes': [[['input_1', 0, 0, {}]]],\n",
       "   'name': 'multi_category_encoding'},\n",
       "  {'class_name': 'Normalization',\n",
       "   'config': {'axis': (-1,),\n",
       "    'dtype': 'float32',\n",
       "    'name': 'normalization',\n",
       "    'trainable': True},\n",
       "   'inbound_nodes': [[['multi_category_encoding', 0, 0, {}]]],\n",
       "   'name': 'normalization'},\n",
       "  {'class_name': 'Dense',\n",
       "   'config': {'activation': 'linear',\n",
       "    'activity_regularizer': None,\n",
       "    'bias_constraint': None,\n",
       "    'bias_initializer': {'class_name': 'Zeros', 'config': {}},\n",
       "    'bias_regularizer': None,\n",
       "    'dtype': 'float32',\n",
       "    'kernel_constraint': None,\n",
       "    'kernel_initializer': {'class_name': 'GlorotUniform',\n",
       "     'config': {'seed': None}},\n",
       "    'kernel_regularizer': None,\n",
       "    'name': 'dense',\n",
       "    'trainable': True,\n",
       "    'units': 32,\n",
       "    'use_bias': True},\n",
       "   'inbound_nodes': [[['normalization', 0, 0, {}]]],\n",
       "   'name': 'dense'},\n",
       "  {'class_name': 'ReLU',\n",
       "   'config': {'dtype': 'float32',\n",
       "    'max_value': None,\n",
       "    'name': 're_lu',\n",
       "    'negative_slope': array(0., dtype=float32),\n",
       "    'threshold': array(0., dtype=float32),\n",
       "    'trainable': True},\n",
       "   'inbound_nodes': [[['dense', 0, 0, {}]]],\n",
       "   'name': 're_lu'},\n",
       "  {'class_name': 'Dense',\n",
       "   'config': {'activation': 'linear',\n",
       "    'activity_regularizer': None,\n",
       "    'bias_constraint': None,\n",
       "    'bias_initializer': {'class_name': 'Zeros', 'config': {}},\n",
       "    'bias_regularizer': None,\n",
       "    'dtype': 'float32',\n",
       "    'kernel_constraint': None,\n",
       "    'kernel_initializer': {'class_name': 'GlorotUniform',\n",
       "     'config': {'seed': None}},\n",
       "    'kernel_regularizer': None,\n",
       "    'name': 'dense_1',\n",
       "    'trainable': True,\n",
       "    'units': 1,\n",
       "    'use_bias': True},\n",
       "   'inbound_nodes': [[['re_lu', 0, 0, {}]]],\n",
       "   'name': 'dense_1'},\n",
       "  {'class_name': 'Activation',\n",
       "   'config': {'activation': 'sigmoid',\n",
       "    'dtype': 'float32',\n",
       "    'name': 'classification_head_1',\n",
       "    'trainable': True},\n",
       "   'inbound_nodes': [[['dense_1', 0, 0, {}]]],\n",
       "   'name': 'classification_head_1'}],\n",
       " 'name': 'model',\n",
       " 'output_layers': [['classification_head_1', 0, 0]]}"
      ]
     },
     "execution_count": 68,
     "metadata": {},
     "output_type": "execute_result"
    }
   ],
   "source": [
    "trained_model_import.get_config()"
   ]
  },
  {
   "cell_type": "markdown",
   "metadata": {
    "id": "cHbbIBVzw5kW"
   },
   "source": [
    "## **Predicting**"
   ]
  },
  {
   "cell_type": "code",
   "execution_count": null,
   "metadata": {
    "id": "uchRgSWbxlWz"
   },
   "outputs": [],
   "source": [
    "y_test = test.pop('Biopsy')"
   ]
  },
  {
   "cell_type": "code",
   "execution_count": 96,
   "metadata": {
    "id": "mM6aDA_2xYLq"
   },
   "outputs": [],
   "source": [
    "classes = trained_model_import.predict(test.astype(np.unicode))"
   ]
  },
  {
   "cell_type": "code",
   "execution_count": 97,
   "metadata": {
    "colab": {
     "base_uri": "https://localhost:8080/"
    },
    "id": "0W_gUuN4x6zs",
    "outputId": "f918878a-d5cf-4166-94d0-d65883956878"
   },
   "outputs": [
    {
     "data": {
      "text/plain": [
       "array([[0.],\n",
       "       [0.],\n",
       "       [1.],\n",
       "       [0.],\n",
       "       [0.],\n",
       "       [0.],\n",
       "       [0.],\n",
       "       [0.],\n",
       "       [0.],\n",
       "       [0.],\n",
       "       [0.],\n",
       "       [0.],\n",
       "       [0.],\n",
       "       [0.],\n",
       "       [1.],\n",
       "       [0.],\n",
       "       [1.],\n",
       "       [0.],\n",
       "       [0.],\n",
       "       [0.],\n",
       "       [0.],\n",
       "       [0.],\n",
       "       [0.],\n",
       "       [0.],\n",
       "       [0.],\n",
       "       [0.],\n",
       "       [0.],\n",
       "       [0.],\n",
       "       [0.],\n",
       "       [0.],\n",
       "       [0.],\n",
       "       [0.],\n",
       "       [0.],\n",
       "       [0.],\n",
       "       [0.],\n",
       "       [0.],\n",
       "       [0.],\n",
       "       [0.],\n",
       "       [0.],\n",
       "       [0.],\n",
       "       [0.],\n",
       "       [0.],\n",
       "       [0.],\n",
       "       [0.],\n",
       "       [0.],\n",
       "       [0.],\n",
       "       [0.],\n",
       "       [0.],\n",
       "       [1.],\n",
       "       [0.],\n",
       "       [0.],\n",
       "       [0.],\n",
       "       [0.],\n",
       "       [0.],\n",
       "       [0.],\n",
       "       [0.],\n",
       "       [0.],\n",
       "       [0.],\n",
       "       [0.],\n",
       "       [0.],\n",
       "       [0.],\n",
       "       [0.],\n",
       "       [0.],\n",
       "       [0.],\n",
       "       [0.],\n",
       "       [0.],\n",
       "       [0.],\n",
       "       [0.],\n",
       "       [0.],\n",
       "       [0.],\n",
       "       [0.],\n",
       "       [0.],\n",
       "       [0.],\n",
       "       [0.],\n",
       "       [0.],\n",
       "       [0.],\n",
       "       [0.],\n",
       "       [0.],\n",
       "       [0.],\n",
       "       [0.],\n",
       "       [0.],\n",
       "       [0.],\n",
       "       [0.],\n",
       "       [0.],\n",
       "       [0.],\n",
       "       [0.]], dtype=float32)"
      ]
     },
     "execution_count": 97,
     "metadata": {},
     "output_type": "execute_result"
    }
   ],
   "source": [
    "classes.round()"
   ]
  }
 ],
 "metadata": {
  "accelerator": "GPU",
  "colab": {
   "authorship_tag": "ABX9TyN7eH2yUGLw9TVg9B6Iu7k+",
   "collapsed_sections": [
    "dAR3svkNzZpZ"
   ],
   "include_colab_link": true,
   "name": "risk_cancer.ipynb",
   "provenance": []
  },
  "kernelspec": {
   "display_name": "Python 3 (ipykernel)",
   "language": "python",
   "name": "python3"
  },
  "language_info": {
   "codemirror_mode": {
    "name": "ipython",
    "version": 3
   },
   "file_extension": ".py",
   "mimetype": "text/x-python",
   "name": "python",
   "nbconvert_exporter": "python",
   "pygments_lexer": "ipython3",
   "version": "3.8.2"
  }
 },
 "nbformat": 4,
 "nbformat_minor": 4
}
